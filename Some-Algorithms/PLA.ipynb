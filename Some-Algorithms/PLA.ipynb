{
 "cells": [
  {
   "cell_type": "code",
   "execution_count": 2,
   "metadata": {},
   "outputs": [],
   "source": [
    "import numpy as np \n",
    "import matplotlib.pyplot as plt\n",
    "from scipy.spatial.distance import cdist"
   ]
  },
  {
   "cell_type": "code",
   "execution_count": 4,
   "metadata": {},
   "outputs": [],
   "source": [
    "np.random.seed(2)"
   ]
  },
  {
   "cell_type": "code",
   "execution_count": 6,
   "metadata": {},
   "outputs": [],
   "source": [
    "means = [[2, 2], [4, 2]]\n",
    "cov = [[.3, .2], [.2, .3]]\n",
    "N = 10\n",
    "X0 = np.random.multivariate_normal(means[0], cov, N).T\n",
    "X1 = np.random.multivariate_normal(means[1], cov, N).T\n",
    "\n",
    "X = np.concatenate((X0, X1), axis = 1)\n",
    "y = np.concatenate((np.ones((1, N)), -1*np.ones((1, N))), axis = 1)\n",
    "# Xbar \n",
    "X = np.concatenate((np.ones((1, 2*N)), X), axis = 0)"
   ]
  },
  {
   "cell_type": "code",
   "execution_count": 8,
   "metadata": {},
   "outputs": [],
   "source": [
    "def h(w, x):    \n",
    "    return np.sign(np.dot(w.T, x))"
   ]
  },
  {
   "cell_type": "code",
   "execution_count": 9,
   "metadata": {},
   "outputs": [],
   "source": [
    "def has_converged(X, y, w):\n",
    "    return np.array_equal(h(w, X), y) #True if h(w, X) == y else False"
   ]
  },
  {
   "cell_type": "code",
   "execution_count": 11,
   "metadata": {},
   "outputs": [
    {
     "name": "stdout",
     "output_type": "stream",
     "text": [
      "[12, 4, 7, 14, 3]\n"
     ]
    }
   ],
   "source": [
    "def perceptron(X, y, w_init):\n",
    "    w = [w_init]\n",
    "    N = X.shape[1]\n",
    "    mis_points = []\n",
    "    while True:\n",
    "        # mix data \n",
    "        mix_id = np.random.permutation(N)\n",
    "        for i in range(N):\n",
    "            xi = X[:, mix_id[i]].reshape(3, 1)\n",
    "            yi = y[0, mix_id[i]]\n",
    "            if h(w[-1], xi)[0] != yi:\n",
    "                mis_points.append(mix_id[i])\n",
    "                w_new = w[-1] + yi*xi \n",
    "\n",
    "                w.append(w_new)\n",
    "                \n",
    "        if has_converged(X, y, w[-1]):\n",
    "            break\n",
    "    return (w, mis_points)\n",
    "\n",
    "d = X.shape[0]\n",
    "w_init = np.random.randn(d, 1)\n",
    "(w, m) = perceptron(X, y, w_init)\n",
    "print(m)\n",
    "# print(w)\n",
    "# print(len(w))"
   ]
  },
  {
   "cell_type": "code",
   "execution_count": 13,
   "metadata": {},
   "outputs": [],
   "source": [
    "def draw_line(w):\n",
    "    w0, w1, w2 = w[0], w[1], w[2]\n",
    "    if w2 != 0:\n",
    "        x11, x12 = -100, 100\n",
    "        return plt.plot([x11, x12], [-(w1*x11 + w0)/w2, -(w1*x12 + w0)/w2], 'k')\n",
    "    else:\n",
    "        x10 = -w0/w1\n",
    "        return plt.plot([x10, x10], [-100, 100], 'k')"
   ]
  },
  {
   "cell_type": "code",
   "execution_count": 15,
   "metadata": {},
   "outputs": [],
   "source": [
    "## Visualization\n",
    "import matplotlib.animation as animation\n",
    "from matplotlib.animation import FuncAnimation "
   ]
  },
  {
   "cell_type": "code",
   "execution_count": 17,
   "metadata": {},
   "outputs": [],
   "source": [
    "def viz_alg_1d_2(w):\n",
    "    it = len(w)    \n",
    "    fig, ax = plt.subplots(figsize=(5, 5))  \n",
    "    \n",
    "    def update(i):\n",
    "        ani = plt.cla()\n",
    "        #points\n",
    "        ani = plt.plot(X0[0, :], X0[1, :], 'b^', markersize = 8, alpha = .8)\n",
    "        ani = plt.plot(X1[0, :], X1[1, :], 'ro', markersize = 8, alpha = .8)\n",
    "        ani = plt.axis([0 , 6, -2, 4])\n",
    "        i2 =  i if i < it else it-1\n",
    "        ani = draw_line(w[i2])\n",
    "        if i < it-1:\n",
    "            # draw one  misclassified point\n",
    "            circle = plt.Circle((X[1, m[i]], X[2, m[i]]), 0.15, color='k', fill = False)\n",
    "            ax.add_artist(circle)\n",
    "        # hide axis \n",
    "        cur_axes = plt.gca()\n",
    "        cur_axes.axes.get_xaxis().set_ticks([])\n",
    "        cur_axes.axes.get_yaxis().set_ticks([])\n",
    "\n",
    "        label = 'PLA: iter %d/%d' %(i2, it-1)\n",
    "        ax.set_xlabel(label)\n",
    "        return ani, ax \n",
    "        \n",
    "    anim = FuncAnimation(fig, update, frames=np.arange(0, it + 2), interval=1000)\n",
    "    # save \n",
    "    anim.save('pla_vis.gif', dpi = 100, writer = 'imagemagick')\n",
    "    plt.show()"
   ]
  },
  {
   "cell_type": "code",
   "execution_count": 18,
   "metadata": {},
   "outputs": [
    {
     "name": "stderr",
     "output_type": "stream",
     "text": [
      "MovieWriter imagemagick unavailable.\n"
     ]
    },
    {
     "data": {
      "image/png": "[encoded data removed]",
      "text/plain": [
       "<Figure size 360x360 with 1 Axes>"
      ]
     },
     "metadata": {},
     "output_type": "display_data"
    }
   ],
   "source": [
    "viz_alg_1d_2(w)"
   ]
  }
 ],
 "metadata": {
  "kernelspec": {
   "display_name": "Python 3",
   "language": "python",
   "name": "python3"
  },
  "language_info": {
   "codemirror_mode": {
    "name": "ipython",
    "version": 3
   },
   "file_extension": ".py",
   "mimetype": "text/x-python",
   "name": "python",
   "nbconvert_exporter": "python",
   "pygments_lexer": "ipython3",
   "version": "3.6.5"
  }
 },
 "nbformat": 4,
 "nbformat_minor": 2
}
